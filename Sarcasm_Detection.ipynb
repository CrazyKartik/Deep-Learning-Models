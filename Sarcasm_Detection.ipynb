{
  "nbformat": 4,
  "nbformat_minor": 0,
  "metadata": {
    "colab": {
      "name": "Sarcasm Detection.ipynb",
      "provenance": [],
      "collapsed_sections": [
        "3cVoabCsl_yd",
        "YWO_OZov4T0b",
        "UhClbrtBHBA3",
        "9ed4UNfblVBK",
        "jagv8D6q4YzV",
        "bnMe5orw72yB",
        "wGNsonaLy4eY",
        "CskDFpDplw3m",
        "d1lVjdRal2eb",
        "hM37LjRlxQrD",
        "3B4hJ7u6nCQH",
        "heS96IizrNe6",
        "XCQpneHCnkeP"
      ],
      "toc_visible": true
    },
    "kernelspec": {
      "name": "python3",
      "display_name": "Python 3"
    },
    "accelerator": "GPU"
  },
  "cells": [
    {
      "cell_type": "markdown",
      "metadata": {
        "id": "3cVoabCsl_yd",
        "colab_type": "text"
      },
      "source": [
        "####**Linking Kaggle and Getting Embeddings**"
      ]
    },
    {
      "cell_type": "code",
      "metadata": {
        "id": "AFlZ2Z_-4aco",
        "colab_type": "code",
        "colab": {
          "resources": {
            "http://localhost:8080/nbextensions/google.colab/files.js": {
              "data": "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",
              "ok": true,
              "headers": [
                [
                  "content-type",
                  "application/javascript"
                ]
              ],
              "status": 200,
              "status_text": ""
            }
          },
          "base_uri": "https://localhost:8080/",
          "height": 91
        },
        "outputId": "433e37dc-2e90-4a06-ee3f-e0fd8ed5829b"
      },
      "source": [
        "from google.colab import files\n",
        "files.upload()"
      ],
      "execution_count": 7,
      "outputs": [
        {
          "output_type": "display_data",
          "data": {
            "text/html": [
              "\n",
              "     <input type=\"file\" id=\"files-f0c77dc9-b8dd-408e-930b-4dc52385c274\" name=\"files[]\" multiple disabled />\n",
              "     <output id=\"result-f0c77dc9-b8dd-408e-930b-4dc52385c274\">\n",
              "      Upload widget is only available when the cell has been executed in the\n",
              "      current browser session. Please rerun this cell to enable.\n",
              "      </output>\n",
              "      <script src=\"/nbextensions/google.colab/files.js\"></script> "
            ],
            "text/plain": [
              "<IPython.core.display.HTML object>"
            ]
          },
          "metadata": {
            "tags": []
          }
        },
        {
          "output_type": "stream",
          "text": [
            "Saving kaggle.json to kaggle.json\n"
          ],
          "name": "stdout"
        },
        {
          "output_type": "execute_result",
          "data": {
            "text/plain": [
              "{'kaggle.json': b'{\"username\":\"krakit1\",\"key\":\"59dc3fcd67bc0ad38bd9a71676fe0cd9\"}'}"
            ]
          },
          "metadata": {
            "tags": []
          },
          "execution_count": 7
        }
      ]
    },
    {
      "cell_type": "code",
      "metadata": {
        "id": "H_mhg-mLlkQ8",
        "colab_type": "code",
        "colab": {}
      },
      "source": [
        "!pip install -q kaggle"
      ],
      "execution_count": 0,
      "outputs": []
    },
    {
      "cell_type": "code",
      "metadata": {
        "id": "7mEi-Z2Hl0Cb",
        "colab_type": "code",
        "colab": {}
      },
      "source": [
        "!mkdir -p ~/.kaggle\n",
        "!cp kaggle.json ~/.kaggle/"
      ],
      "execution_count": 0,
      "outputs": []
    },
    {
      "cell_type": "code",
      "metadata": {
        "id": "PrkaV-x9rB_E",
        "colab_type": "code",
        "colab": {}
      },
      "source": [
        "!chmod 600 /root/.kaggle/kaggle.json"
      ],
      "execution_count": 0,
      "outputs": []
    },
    {
      "cell_type": "code",
      "metadata": {
        "id": "IlZhHupjWgDI",
        "colab_type": "code",
        "colab": {
          "base_uri": "https://localhost:8080/",
          "height": 224
        },
        "outputId": "ab8a6581-8cb6-4fe8-9743-7905b9dc2165"
      },
      "source": [
        "!wget https://dl.fbaipublicfiles.com/fasttext/vectors-english/crawl-300d-2M.vec.zip"
      ],
      "execution_count": 11,
      "outputs": [
        {
          "output_type": "stream",
          "text": [
            "--2020-05-25 05:02:13--  https://dl.fbaipublicfiles.com/fasttext/vectors-english/crawl-300d-2M.vec.zip\n",
            "Resolving dl.fbaipublicfiles.com (dl.fbaipublicfiles.com)... 104.22.75.142, 104.22.74.142, 2606:4700:10::6816:4b8e, ...\n",
            "Connecting to dl.fbaipublicfiles.com (dl.fbaipublicfiles.com)|104.22.75.142|:443... connected.\n",
            "HTTP request sent, awaiting response... 200 OK\n",
            "Length: 1523785255 (1.4G) [application/zip]\n",
            "Saving to: ‘crawl-300d-2M.vec.zip.1’\n",
            "\n",
            "crawl-300d-2M.vec.z 100%[===================>]   1.42G  12.2MB/s    in 2m 1s   \n",
            "\n",
            "2020-05-25 05:04:15 (12.0 MB/s) - ‘crawl-300d-2M.vec.zip.1’ saved [1523785255/1523785255]\n",
            "\n"
          ],
          "name": "stdout"
        }
      ]
    },
    {
      "cell_type": "code",
      "metadata": {
        "id": "wkQRvnuRXZFP",
        "colab_type": "code",
        "colab": {
          "base_uri": "https://localhost:8080/",
          "height": 51
        },
        "outputId": "87cd3526-d01e-4a3b-a2ae-7a706879bc78"
      },
      "source": [
        "!unzip crawl-300d-2M.vec.zip"
      ],
      "execution_count": 28,
      "outputs": [
        {
          "output_type": "stream",
          "text": [
            "Archive:  crawl-300d-2M.vec.zip.1\n",
            "  inflating: crawl-300d-2M.vec       \n"
          ],
          "name": "stdout"
        }
      ]
    },
    {
      "cell_type": "markdown",
      "metadata": {
        "id": "YWO_OZov4T0b",
        "colab_type": "text"
      },
      "source": [
        "####**Imports**"
      ]
    },
    {
      "cell_type": "code",
      "metadata": {
        "id": "_523an9k2sKw",
        "colab_type": "code",
        "colab": {
          "base_uri": "https://localhost:8080/",
          "height": 34
        },
        "outputId": "f8029d03-7e36-414f-e6ba-d8d94a40e039"
      },
      "source": [
        "%tensorflow_version 1.x\n",
        "import pandas as pd\n",
        "import numpy as np\n",
        "import tensorflow as tf\n",
        "import matplotlib.pyplot as plt\n",
        "from tensorflow.keras.preprocessing.text import Tokenizer\n",
        "from tensorflow.keras.preprocessing.sequence import pad_sequences\n",
        "from tensorflow.keras.callbacks import Callback\n",
        "from tensorflow.keras import backend as K\n",
        "from tensorflow.keras.callbacks import ModelCheckpoint"
      ],
      "execution_count": 6,
      "outputs": [
        {
          "output_type": "stream",
          "text": [
            "TensorFlow 1.x selected.\n"
          ],
          "name": "stdout"
        }
      ]
    },
    {
      "cell_type": "markdown",
      "metadata": {
        "id": "UhClbrtBHBA3",
        "colab_type": "text"
      },
      "source": [
        "####**F1 score function**"
      ]
    },
    {
      "cell_type": "code",
      "metadata": {
        "id": "v9YzHdwwDReE",
        "colab_type": "code",
        "colab": {}
      },
      "source": [
        "def recall_m(y_true, y_pred):\n",
        "    true_positives = K.sum(K.round(K.clip(y_true * y_pred, 0, 1)))\n",
        "    possible_positives = K.sum(K.round(K.clip(y_true, 0, 1)))\n",
        "    recall = true_positives / (possible_positives + K.epsilon())\n",
        "    return recall\n",
        "\n",
        "def precision_m(y_true, y_pred):\n",
        "    true_positives = K.sum(K.round(K.clip(y_true * y_pred, 0, 1)))\n",
        "    predicted_positives = K.sum(K.round(K.clip(y_pred, 0, 1)))\n",
        "    precision = true_positives / (predicted_positives + K.epsilon())\n",
        "    return precision\n",
        "\n",
        "def f1_m(y_true, y_pred):\n",
        "    precision = precision_m(y_true, y_pred)\n",
        "    recall = recall_m(y_true, y_pred)\n",
        "    return 2 * ((precision * recall) / (precision + recall + K.epsilon()))"
      ],
      "execution_count": 0,
      "outputs": []
    },
    {
      "cell_type": "markdown",
      "metadata": {
        "id": "CskDFpDplw3m",
        "colab_type": "text"
      },
      "source": [
        "###**Sentiment Model**"
      ]
    },
    {
      "cell_type": "markdown",
      "metadata": {
        "id": "d1lVjdRal2eb",
        "colab_type": "text"
      },
      "source": [
        "####**Getting Data**"
      ]
    },
    {
      "cell_type": "code",
      "metadata": {
        "id": "MyXp4VAEl1L1",
        "colab_type": "code",
        "outputId": "a6947248-075c-4262-d749-e24e33b4d915",
        "colab": {
          "base_uri": "https://localhost:8080/",
          "height": 68
        }
      },
      "source": [
        "!kaggle datasets download -d kazanova/sentiment140"
      ],
      "execution_count": 0,
      "outputs": [
        {
          "output_type": "stream",
          "text": [
            "Downloading sentiment140.zip to /content\n",
            "100% 80.9M/80.9M [00:02<00:00, 32.9MB/s]\n",
            "\n"
          ],
          "name": "stdout"
        }
      ]
    },
    {
      "cell_type": "code",
      "metadata": {
        "id": "U4c0WpCxyDxD",
        "colab_type": "code",
        "outputId": "6536b5dc-3858-4995-ee2c-db2bbc9a0130",
        "colab": {
          "base_uri": "https://localhost:8080/",
          "height": 51
        }
      },
      "source": [
        "!unzip sentiment140.zip"
      ],
      "execution_count": 0,
      "outputs": [
        {
          "output_type": "stream",
          "text": [
            "Archive:  sentiment140.zip\n",
            "  inflating: training.1600000.processed.noemoticon.csv  \n"
          ],
          "name": "stdout"
        }
      ]
    },
    {
      "cell_type": "markdown",
      "metadata": {
        "id": "hM37LjRlxQrD",
        "colab_type": "text"
      },
      "source": [
        "####**Preprocessing Data and Preparing Embedding Weights**"
      ]
    },
    {
      "cell_type": "code",
      "metadata": {
        "id": "sTl9Lz_nxcPT",
        "colab_type": "code",
        "colab": {}
      },
      "source": [
        "df = pd.read_csv('training.1600000.processed.noemoticon.csv', encoding='latin-1')\n",
        "df.columns = ['target', 'id','date', 'flag', 'user', 'text']\n",
        "df['target'] = df['target'].map({4:1, 0:0})\n",
        "df = df.drop(['date', 'id', 'flag', 'user'], axis=1)\n",
        "# print(df.head())\n",
        "# print(df['target'].value_counts())"
      ],
      "execution_count": 0,
      "outputs": []
    },
    {
      "cell_type": "code",
      "metadata": {
        "id": "3QVXb1kV1-NI",
        "colab_type": "code",
        "colab": {
          "base_uri": "https://localhost:8080/",
          "height": 656
        },
        "outputId": "7086b7a4-36e3-401b-a548-03dc7c7e8533"
      },
      "source": [
        "temp1 = df['text'].apply(lambda x : len(x.split()))\n",
        "print(max(temp1))\n",
        "plt.hist(temp1, bins=70)"
      ],
      "execution_count": 9,
      "outputs": [
        {
          "output_type": "stream",
          "text": [
            "64\n"
          ],
          "name": "stdout"
        },
        {
          "output_type": "execute_result",
          "data": {
            "text/plain": [
              "(array([5.9780e+03, 2.5113e+04, 5.2064e+04, 6.7905e+04, 8.0835e+04,\n",
              "        8.7307e+04, 8.9283e+04, 8.8847e+04, 8.7014e+04, 0.0000e+00,\n",
              "        8.3542e+04, 8.0406e+04, 7.6013e+04, 7.1814e+04, 6.7854e+04,\n",
              "        6.3609e+04, 6.0014e+04, 5.6220e+04, 5.3751e+04, 0.0000e+00,\n",
              "        5.1777e+04, 5.1499e+04, 4.8382e+04, 4.7695e+04, 4.5550e+04,\n",
              "        4.2597e+04, 3.7359e+04, 2.9781e+04, 2.1201e+04, 0.0000e+00,\n",
              "        1.3212e+04, 7.3180e+03, 3.5760e+03, 1.5550e+03, 5.9400e+02,\n",
              "        2.1500e+02, 7.4000e+01, 2.2000e+01, 8.0000e+00, 0.0000e+00,\n",
              "        3.0000e+00, 2.0000e+00, 4.0000e+00, 0.0000e+00, 2.0000e+00,\n",
              "        0.0000e+00, 0.0000e+00, 1.0000e+00, 0.0000e+00, 0.0000e+00,\n",
              "        0.0000e+00, 0.0000e+00, 0.0000e+00, 0.0000e+00, 0.0000e+00,\n",
              "        0.0000e+00, 0.0000e+00, 0.0000e+00, 0.0000e+00, 0.0000e+00,\n",
              "        0.0000e+00, 0.0000e+00, 1.0000e+00, 1.0000e+00, 0.0000e+00,\n",
              "        0.0000e+00, 0.0000e+00, 0.0000e+00, 0.0000e+00, 1.0000e+00]),\n",
              " array([ 1. ,  1.9,  2.8,  3.7,  4.6,  5.5,  6.4,  7.3,  8.2,  9.1, 10. ,\n",
              "        10.9, 11.8, 12.7, 13.6, 14.5, 15.4, 16.3, 17.2, 18.1, 19. , 19.9,\n",
              "        20.8, 21.7, 22.6, 23.5, 24.4, 25.3, 26.2, 27.1, 28. , 28.9, 29.8,\n",
              "        30.7, 31.6, 32.5, 33.4, 34.3, 35.2, 36.1, 37. , 37.9, 38.8, 39.7,\n",
              "        40.6, 41.5, 42.4, 43.3, 44.2, 45.1, 46. , 46.9, 47.8, 48.7, 49.6,\n",
              "        50.5, 51.4, 52.3, 53.2, 54.1, 55. , 55.9, 56.8, 57.7, 58.6, 59.5,\n",
              "        60.4, 61.3, 62.2, 63.1, 64. ]),\n",
              " <a list of 70 Patch objects>)"
            ]
          },
          "metadata": {
            "tags": []
          },
          "execution_count": 9
        },
        {
          "output_type": "display_data",
          "data": {
            "image/png": "[encoded data removed]",
            "text/plain": [
              "<Figure size 432x288 with 1 Axes>"
            ]
          },
          "metadata": {
            "tags": [],
            "needs_background": "light"
          }
        }
      ]
    },
    {
      "cell_type": "code",
      "metadata": {
        "id": "LuHU8ual2XqX",
        "colab_type": "code",
        "colab": {}
      },
      "source": [
        "X = np.array(df['text'])\n",
        "y = np.array(df['target'])\n",
        "\n",
        "y = y.reshape((y.shape[0],1))\n",
        "X = X.squeeze()\n",
        "\n",
        "m = X.shape[0]\n",
        "perm = np.random.permutation(m)\n",
        "X = X[perm]\n",
        "y = y[perm,:]\n",
        "\n",
        "X = X[:60000]\n",
        "y = y[:60000,:]\n",
        "\n",
        "X_test = X[:10000]\n",
        "y_test = y[:10000,:]\n",
        "\n",
        "X_val = X[10000:20000]\n",
        "y_val = y[10000:20000,:]\n",
        "\n",
        "X_train = X[20000:]\n",
        "y_train = y[20000:,:]"
      ],
      "execution_count": 0,
      "outputs": []
    },
    {
      "cell_type": "code",
      "metadata": {
        "id": "od3LIj482qyS",
        "colab_type": "code",
        "colab": {
          "base_uri": "https://localhost:8080/",
          "height": 34
        },
        "outputId": "8078a159-6b9f-4eb1-d4f3-7c256a29b0b9"
      },
      "source": [
        "max_len = min(max(len(x.split()) for x in X_train), 20)\n",
        "embedding_size = 300\n",
        "embedding_file = 'crawl-300d-2M.vec'\n",
        "print(\"max length:\",max_len)"
      ],
      "execution_count": 11,
      "outputs": [
        {
          "output_type": "stream",
          "text": [
            "max length: 20\n"
          ],
          "name": "stdout"
        }
      ]
    },
    {
      "cell_type": "code",
      "metadata": {
        "id": "X7kQ4oyl2wkr",
        "colab_type": "code",
        "colab": {
          "base_uri": "https://localhost:8080/",
          "height": 68
        },
        "outputId": "df277345-fd47-4083-8822-41dc6212f8bd"
      },
      "source": [
        "tokenizer = Tokenizer()\n",
        "tokenizer.fit_on_texts(list(X_train))\n",
        "\n",
        "X = tokenizer.texts_to_sequences(list(X_train))\n",
        "X_train = np.array(pad_sequences(X, max_len))\n",
        "\n",
        "X = tokenizer.texts_to_sequences(list(X_val))\n",
        "X_val = np.array(pad_sequences(X, max_len))\n",
        "\n",
        "X = tokenizer.texts_to_sequences(list(X_test))\n",
        "X_test = np.array(pad_sequences(X, max_len))\n",
        "\n",
        "print(y_train.shape, X_train.shape)\n",
        "print(y_val.shape, X_val.shape)\n",
        "print(y_test.shape, X_test.shape)"
      ],
      "execution_count": 12,
      "outputs": [
        {
          "output_type": "stream",
          "text": [
            "(40000, 1) (40000, 20)\n",
            "(10000, 1) (10000, 20)\n",
            "(10000, 1) (10000, 20)\n"
          ],
          "name": "stdout"
        }
      ]
    },
    {
      "cell_type": "code",
      "metadata": {
        "id": "FN3uUWxJUXlB",
        "colab_type": "code",
        "colab": {
          "base_uri": "https://localhost:8080/",
          "height": 34
        },
        "outputId": "d4c82a4e-3593-4bd9-d0f6-e4952c7aa14f"
      },
      "source": [
        "word_index = tokenizer.word_index\n",
        "vocab_size = len(word_index) + 1\n",
        "print(\"vocab:\", vocab_size)"
      ],
      "execution_count": 13,
      "outputs": [
        {
          "output_type": "stream",
          "text": [
            "vocab: 51101\n"
          ],
          "name": "stdout"
        }
      ]
    },
    {
      "cell_type": "code",
      "metadata": {
        "id": "foWgD-Ix21xl",
        "colab_type": "code",
        "colab": {}
      },
      "source": [
        "def get_indices(word, *arr):\n",
        "    return word,np.asarray(arr, dtype=np.float32)\n",
        "\n",
        "word_to_vec = dict(get_indices(*i.rstrip().rsplit()) for i in open(embedding_file))\n",
        "\n",
        "embedding_matrix_S = np.zeros((vocab_size, embedding_size))\n",
        "\n",
        "for word,i in word_index.items():\n",
        "    if i >= vocab_size:\n",
        "        continue\n",
        "    embedding_vector = word_to_vec.get(word)\n",
        "    if embedding_vector is not None:\n",
        "        embedding_matrix_S[i] = embedding_vector"
      ],
      "execution_count": 0,
      "outputs": []
    },
    {
      "cell_type": "markdown",
      "metadata": {
        "id": "3B4hJ7u6nCQH",
        "colab_type": "text"
      },
      "source": [
        "####**Model**"
      ]
    },
    {
      "cell_type": "code",
      "metadata": {
        "id": "kJSBm9fGnN9D",
        "colab_type": "code",
        "colab": {}
      },
      "source": [
        "def sentiment():\n",
        "    model = tf.keras.Sequential()\n",
        "\n",
        "    model.add(tf.keras.layers.Embedding(vocab_size, \n",
        "                                        embedding_size, \n",
        "                                        input_length=max_len, \n",
        "                                        weights=[embedding_matrix_S], \n",
        "                                        trainable=True,\n",
        "                                        name='Embedding_S'))\n",
        "    \n",
        "    model.add(tf.keras.layers.Conv1D(filters=50,\n",
        "                                     kernel_size=5,\n",
        "                                     activation='relu',\n",
        "                                     name='conv1_S'))\n",
        "    model.add(tf.keras.layers.MaxPooling1D(2, name='max_pool1_S'))\n",
        "\n",
        "    model.add(tf.keras.layers.Conv1D(filters=100,\n",
        "                                     kernel_size=3,\n",
        "                                     activation='relu',\n",
        "                                     name='conv2_S'))\n",
        "    model.add(tf.keras.layers.MaxPooling1D(2, name='max_pool2_S'))\n",
        "    model.add(tf.keras.layers.Flatten(name='flatten1_S'))\n",
        "\n",
        "    model.add(tf.keras.layers.Dense(100, activation='relu', name='dense1_S'))\n",
        "    model.add(tf.keras.layers.Dropout(0.75, name='dropout1_S'))\n",
        "    model.add(tf.keras.layers.Dense(1, activation='sigmoid', name='output_S'))\n",
        "\n",
        "    return model"
      ],
      "execution_count": 0,
      "outputs": []
    },
    {
      "cell_type": "code",
      "metadata": {
        "id": "A3BO9zs0ncvj",
        "colab_type": "code",
        "colab": {
          "base_uri": "https://localhost:8080/",
          "height": 904
        },
        "outputId": "4b2473df-cd9f-4f49-b093-b18465db0c1d"
      },
      "source": [
        "batch_size = 32\n",
        "epochs = 10\n",
        "learning_rate = 1e-5\n",
        "\n",
        "model = sentiment()\n",
        "checkpointer = ModelCheckpoint(filepath = 'sentiment.hdf5', \n",
        "                               monitor='val_loss', \n",
        "                               verbose=1, \n",
        "                               save_best_only=True,\n",
        "                               mode='min')\n",
        "\n",
        "model.compile(loss='binary_crossentropy',\n",
        "              optimizer=tf.keras.optimizers.Adam(learning_rate=learning_rate),\n",
        "              metrics=['accuracy', f1_m])\n",
        "\n",
        "history = model.fit(X_train,\n",
        "                    y_train,\n",
        "                    batch_size=batch_size,\n",
        "                    epochs=epochs,\n",
        "                    callbacks=[checkpointer],\n",
        "                    validation_data=(X_val,y_val))"
      ],
      "execution_count": 16,
      "outputs": [
        {
          "output_type": "stream",
          "text": [
            "WARNING:tensorflow:From /tensorflow-1.15.2/python3.6/tensorflow_core/python/keras/initializers.py:119: calling RandomUniform.__init__ (from tensorflow.python.ops.init_ops) with dtype is deprecated and will be removed in a future version.\n",
            "Instructions for updating:\n",
            "Call initializer instance with the dtype argument instead of passing it to the constructor\n",
            "WARNING:tensorflow:From /tensorflow-1.15.2/python3.6/tensorflow_core/python/ops/resource_variable_ops.py:1630: calling BaseResourceVariable.__init__ (from tensorflow.python.ops.resource_variable_ops) with constraint is deprecated and will be removed in a future version.\n",
            "Instructions for updating:\n",
            "If using Keras pass *_constraint arguments to layers.\n",
            "WARNING:tensorflow:Large dropout rate: 0.75 (>0.5). In TensorFlow 2.x, dropout() uses dropout rate instead of keep_prob. Please ensure that this is intended.\n",
            "WARNING:tensorflow:From /tensorflow-1.15.2/python3.6/tensorflow_core/python/ops/nn_impl.py:183: where (from tensorflow.python.ops.array_ops) is deprecated and will be removed in a future version.\n",
            "Instructions for updating:\n",
            "Use tf.where in 2.0, which has the same broadcast rule as np.where\n",
            "Train on 40000 samples, validate on 10000 samples\n",
            "Epoch 1/10\n",
            "39872/40000 [============================>.] - ETA: 0s - loss: 0.6969 - acc: 0.5126 - f1_m: 0.5011\n",
            "Epoch 00001: val_loss improved from inf to 0.68862, saving model to sentiment.hdf5\n",
            "40000/40000 [==============================] - 16s 411us/sample - loss: 0.6969 - acc: 0.5126 - f1_m: 0.5009 - val_loss: 0.6886 - val_acc: 0.5555 - val_f1_m: 0.5091\n",
            "Epoch 2/10\n",
            "39872/40000 [============================>.] - ETA: 0s - loss: 0.6892 - acc: 0.5354 - f1_m: 0.5221\n",
            "Epoch 00002: val_loss improved from 0.68862 to 0.68287, saving model to sentiment.hdf5\n",
            "40000/40000 [==============================] - 10s 246us/sample - loss: 0.6892 - acc: 0.5354 - f1_m: 0.5219 - val_loss: 0.6829 - val_acc: 0.5933 - val_f1_m: 0.5688\n",
            "Epoch 3/10\n",
            "39872/40000 [============================>.] - ETA: 0s - loss: 0.6792 - acc: 0.5791 - f1_m: 0.5682\n",
            "Epoch 00003: val_loss improved from 0.68287 to 0.66997, saving model to sentiment.hdf5\n",
            "40000/40000 [==============================] - 10s 245us/sample - loss: 0.6792 - acc: 0.5792 - f1_m: 0.5682 - val_loss: 0.6700 - val_acc: 0.6316 - val_f1_m: 0.6493\n",
            "Epoch 4/10\n",
            "39872/40000 [============================>.] - ETA: 0s - loss: 0.6615 - acc: 0.6223 - f1_m: 0.6186\n",
            "Epoch 00004: val_loss improved from 0.66997 to 0.64517, saving model to sentiment.hdf5\n",
            "40000/40000 [==============================] - 10s 245us/sample - loss: 0.6616 - acc: 0.6220 - f1_m: 0.6183 - val_loss: 0.6452 - val_acc: 0.6696 - val_f1_m: 0.6779\n",
            "Epoch 5/10\n",
            "39968/40000 [============================>.] - ETA: 0s - loss: 0.6333 - acc: 0.6639 - f1_m: 0.6611\n",
            "Epoch 00005: val_loss improved from 0.64517 to 0.61398, saving model to sentiment.hdf5\n",
            "40000/40000 [==============================] - 10s 245us/sample - loss: 0.6333 - acc: 0.6639 - f1_m: 0.6611 - val_loss: 0.6140 - val_acc: 0.6960 - val_f1_m: 0.6886\n",
            "Epoch 6/10\n",
            "39904/40000 [============================>.] - ETA: 0s - loss: 0.6057 - acc: 0.6950 - f1_m: 0.6870\n",
            "Epoch 00006: val_loss improved from 0.61398 to 0.58760, saving model to sentiment.hdf5\n",
            "40000/40000 [==============================] - 10s 245us/sample - loss: 0.6056 - acc: 0.6950 - f1_m: 0.6871 - val_loss: 0.5876 - val_acc: 0.7149 - val_f1_m: 0.7100\n",
            "Epoch 7/10\n",
            "39904/40000 [============================>.] - ETA: 0s - loss: 0.5818 - acc: 0.7158 - f1_m: 0.7055\n",
            "Epoch 00007: val_loss improved from 0.58760 to 0.56840, saving model to sentiment.hdf5\n",
            "40000/40000 [==============================] - 10s 246us/sample - loss: 0.5818 - acc: 0.7158 - f1_m: 0.7055 - val_loss: 0.5684 - val_acc: 0.7271 - val_f1_m: 0.7158\n",
            "Epoch 8/10\n",
            "39968/40000 [============================>.] - ETA: 0s - loss: 0.5612 - acc: 0.7316 - f1_m: 0.7221\n",
            "Epoch 00008: val_loss improved from 0.56840 to 0.55340, saving model to sentiment.hdf5\n",
            "40000/40000 [==============================] - 10s 244us/sample - loss: 0.5612 - acc: 0.7316 - f1_m: 0.7221 - val_loss: 0.5534 - val_acc: 0.7345 - val_f1_m: 0.7237\n",
            "Epoch 9/10\n",
            "39968/40000 [============================>.] - ETA: 0s - loss: 0.5479 - acc: 0.7420 - f1_m: 0.7329\n",
            "Epoch 00009: val_loss improved from 0.55340 to 0.54152, saving model to sentiment.hdf5\n",
            "40000/40000 [==============================] - 10s 247us/sample - loss: 0.5478 - acc: 0.7420 - f1_m: 0.7330 - val_loss: 0.5415 - val_acc: 0.7401 - val_f1_m: 0.7336\n",
            "Epoch 10/10\n",
            "39936/40000 [============================>.] - ETA: 0s - loss: 0.5302 - acc: 0.7531 - f1_m: 0.7433\n",
            "Epoch 00010: val_loss improved from 0.54152 to 0.53214, saving model to sentiment.hdf5\n",
            "40000/40000 [==============================] - 10s 246us/sample - loss: 0.5302 - acc: 0.7531 - f1_m: 0.7432 - val_loss: 0.5321 - val_acc: 0.7464 - val_f1_m: 0.7355\n"
          ],
          "name": "stdout"
        }
      ]
    },
    {
      "cell_type": "code",
      "metadata": {
        "colab_type": "code",
        "id": "LgBFmHmbnt1j",
        "colab": {
          "base_uri": "https://localhost:8080/",
          "height": 545
        },
        "outputId": "4b5c6492-928c-4dfa-c8d3-969591cc3451"
      },
      "source": [
        "loss = history.history['loss']\n",
        "val_loss = history.history['val_loss']\n",
        "acc = history.history['acc']\n",
        "val_acc = history.history['val_acc']\n",
        "epoch = history.epoch\n",
        "\n",
        "plt.plot(epoch,loss, label='loss')\n",
        "plt.plot(epoch, val_loss, label='val loss')\n",
        "plt.legend()\n",
        "plt.title('epochs vs loss')\n",
        "plt.show()\n",
        "\n",
        "plt.plot(epoch,acc, label='accuracy')\n",
        "plt.plot(epoch, val_acc, label='val accuracy')\n",
        "plt.legend()\n",
        "plt.title('epochs vs accuracy')\n",
        "plt.show()  "
      ],
      "execution_count": 17,
      "outputs": [
        {
          "output_type": "display_data",
          "data": {
            "image/png": "[encoded data removed]",
            "text/plain": [
              "<Figure size 432x288 with 1 Axes>"
            ]
          },
          "metadata": {
            "tags": [],
            "needs_background": "light"
          }
        },
        {
          "output_type": "display_data",
          "data": {
            "image/png": "[encoded data removed]",
            "text/plain": [
              "<Figure size 432x288 with 1 Axes>"
            ]
          },
          "metadata": {
            "tags": [],
            "needs_background": "light"
          }
        }
      ]
    },
    {
      "cell_type": "markdown",
      "metadata": {
        "colab_type": "text",
        "id": "Wm5J_Yzjnt1s"
      },
      "source": [
        "**Test Set Performance**"
      ]
    },
    {
      "cell_type": "code",
      "metadata": {
        "colab_type": "code",
        "id": "VKmmSnhant1s",
        "colab": {
          "base_uri": "https://localhost:8080/",
          "height": 54
        },
        "outputId": "3b2dc329-eb66-4ae9-9f8c-7385c90764aa"
      },
      "source": [
        "model.load_weights('sentiment.hdf5')\n",
        "results = model.evaluate(X_test,\n",
        "                         y_test,\n",
        "                         batch_size=batch_size\n",
        "                         )"
      ],
      "execution_count": 18,
      "outputs": [
        {
          "output_type": "stream",
          "text": [
            "10000/10000 [==============================] - 1s 65us/sample - loss: 0.5306 - acc: 0.7493 - f1_m: 0.7385\n"
          ],
          "name": "stdout"
        }
      ]
    },
    {
      "cell_type": "code",
      "metadata": {
        "colab_type": "code",
        "id": "iDm2KMpAnt1w",
        "colab": {
          "base_uri": "https://localhost:8080/",
          "height": 68
        },
        "outputId": "0e700ff1-72f5-46d4-a972-93c11d91045b"
      },
      "source": [
        "print(\"Loss on test set:\", results[0])\n",
        "print(\"Accuracy on test set:\", results[1])\n",
        "print (\"F1 score on test set:\", results[2])"
      ],
      "execution_count": 19,
      "outputs": [
        {
          "output_type": "stream",
          "text": [
            "Loss on test set: 0.5306076684951783\n",
            "Accuracy on test set: 0.7493\n",
            "F1 score on test set: 0.7384675\n"
          ],
          "name": "stdout"
        }
      ]
    },
    {
      "cell_type": "code",
      "metadata": {
        "id": "qLhkFo45UPeX",
        "colab_type": "code",
        "colab": {
          "base_uri": "https://localhost:8080/",
          "height": 54
        },
        "outputId": "7c58c74a-3925-436e-a19e-ec4e523be999"
      },
      "source": [
        "S = sentiment()\n",
        "S.load_weights('sentiment.hdf5')"
      ],
      "execution_count": 20,
      "outputs": [
        {
          "output_type": "stream",
          "text": [
            "WARNING:tensorflow:Large dropout rate: 0.75 (>0.5). In TensorFlow 2.x, dropout() uses dropout rate instead of keep_prob. Please ensure that this is intended.\n"
          ],
          "name": "stdout"
        }
      ]
    },
    {
      "cell_type": "markdown",
      "metadata": {
        "id": "9ed4UNfblVBK",
        "colab_type": "text"
      },
      "source": [
        "###**Sarcasm Model**"
      ]
    },
    {
      "cell_type": "markdown",
      "metadata": {
        "id": "jagv8D6q4YzV",
        "colab_type": "text"
      },
      "source": [
        "####**Getting Data**"
      ]
    },
    {
      "cell_type": "code",
      "metadata": {
        "id": "LZ0pVmjX2cx7",
        "colab_type": "code",
        "colab": {
          "base_uri": "https://localhost:8080/",
          "height": 68
        },
        "outputId": "fd3e1113-19a4-4bef-9fbc-b939cc5896ce"
      },
      "source": [
        "!kaggle datasets download -d rmisra/news-headlines-dataset-for-sarcasm-detection"
      ],
      "execution_count": 15,
      "outputs": [
        {
          "output_type": "stream",
          "text": [
            "Downloading news-headlines-dataset-for-sarcasm-detection.zip to /content\n",
            "\r  0% 0.00/3.30M [00:00<?, ?B/s]\n",
            "\r100% 3.30M/3.30M [00:00<00:00, 111MB/s]\n"
          ],
          "name": "stdout"
        }
      ]
    },
    {
      "cell_type": "code",
      "metadata": {
        "id": "y_oH8MvB3A4b",
        "colab_type": "code",
        "colab": {
          "base_uri": "https://localhost:8080/",
          "height": 68
        },
        "outputId": "9effe666-7ca1-4827-e5da-1dec5d17c60c"
      },
      "source": [
        "!unzip news-headlines-dataset-for-sarcasm-detection.zip"
      ],
      "execution_count": 16,
      "outputs": [
        {
          "output_type": "stream",
          "text": [
            "Archive:  news-headlines-dataset-for-sarcasm-detection.zip\n",
            "  inflating: Sarcasm_Headlines_Dataset.json  \n",
            "  inflating: Sarcasm_Headlines_Dataset_v2.json  \n"
          ],
          "name": "stdout"
        }
      ]
    },
    {
      "cell_type": "markdown",
      "metadata": {
        "id": "bLkqTRiw4JCr",
        "colab_type": "text"
      },
      "source": [
        "####**Preprocessing Data and Preparing Embedding Weights**"
      ]
    },
    {
      "cell_type": "code",
      "metadata": {
        "id": "6YSh8qoX23Xm",
        "colab_type": "code",
        "colab": {
          "base_uri": "https://localhost:8080/",
          "height": 204
        },
        "outputId": "3f672a15-6d44-4c3b-ad84-da781ccdb8f6"
      },
      "source": [
        "df1 = pd.read_json(\"Sarcasm_Headlines_Dataset.json\", lines=True)\n",
        "df2 = pd.read_json(\"Sarcasm_Headlines_Dataset_v2.json\", lines=True)\n",
        "df = pd.concat([df1[['headline', 'is_sarcastic']],df2[['headline', 'is_sarcastic']]], axis=0)\n",
        "df.head()"
      ],
      "execution_count": 21,
      "outputs": [
        {
          "output_type": "execute_result",
          "data": {
            "text/html": [
              "<div>\n",
              "<style scoped>\n",
              "    .dataframe tbody tr th:only-of-type {\n",
              "        vertical-align: middle;\n",
              "    }\n",
              "\n",
              "    .dataframe tbody tr th {\n",
              "        vertical-align: top;\n",
              "    }\n",
              "\n",
              "    .dataframe thead th {\n",
              "        text-align: right;\n",
              "    }\n",
              "</style>\n",
              "<table border=\"1\" class=\"dataframe\">\n",
              "  <thead>\n",
              "    <tr style=\"text-align: right;\">\n",
              "      <th></th>\n",
              "      <th>headline</th>\n",
              "      <th>is_sarcastic</th>\n",
              "    </tr>\n",
              "  </thead>\n",
              "  <tbody>\n",
              "    <tr>\n",
              "      <th>0</th>\n",
              "      <td>former versace store clerk sues over secret 'b...</td>\n",
              "      <td>0</td>\n",
              "    </tr>\n",
              "    <tr>\n",
              "      <th>1</th>\n",
              "      <td>the 'roseanne' revival catches up to our thorn...</td>\n",
              "      <td>0</td>\n",
              "    </tr>\n",
              "    <tr>\n",
              "      <th>2</th>\n",
              "      <td>mom starting to fear son's web series closest ...</td>\n",
              "      <td>1</td>\n",
              "    </tr>\n",
              "    <tr>\n",
              "      <th>3</th>\n",
              "      <td>boehner just wants wife to listen, not come up...</td>\n",
              "      <td>1</td>\n",
              "    </tr>\n",
              "    <tr>\n",
              "      <th>4</th>\n",
              "      <td>j.k. rowling wishes snape happy birthday in th...</td>\n",
              "      <td>0</td>\n",
              "    </tr>\n",
              "  </tbody>\n",
              "</table>\n",
              "</div>"
            ],
            "text/plain": [
              "                                            headline  is_sarcastic\n",
              "0  former versace store clerk sues over secret 'b...             0\n",
              "1  the 'roseanne' revival catches up to our thorn...             0\n",
              "2  mom starting to fear son's web series closest ...             1\n",
              "3  boehner just wants wife to listen, not come up...             1\n",
              "4  j.k. rowling wishes snape happy birthday in th...             0"
            ]
          },
          "metadata": {
            "tags": []
          },
          "execution_count": 21
        }
      ]
    },
    {
      "cell_type": "code",
      "metadata": {
        "id": "2Tws7qejk1HQ",
        "colab_type": "code",
        "colab": {
          "base_uri": "https://localhost:8080/",
          "height": 51
        },
        "outputId": "35090cf7-bc40-45c1-8923-51d41f9e5ee2"
      },
      "source": [
        "temp1 = df1['headline'].apply(lambda x : len(x.split()))\n",
        "print(max(temp1))\n",
        "temp = df2['headline'].apply(lambda x : len(x.split()))\n",
        "print(max(temp))"
      ],
      "execution_count": 22,
      "outputs": [
        {
          "output_type": "stream",
          "text": [
            "39\n",
            "151\n"
          ],
          "name": "stdout"
        }
      ]
    },
    {
      "cell_type": "code",
      "metadata": {
        "id": "fHRW_Br_loHx",
        "colab_type": "code",
        "colab": {
          "base_uri": "https://localhost:8080/",
          "height": 503
        },
        "outputId": "b309a148-b37e-4011-a043-fa5d09a0c2af"
      },
      "source": [
        "plt.hist(temp1, bins=40)"
      ],
      "execution_count": 23,
      "outputs": [
        {
          "output_type": "execute_result",
          "data": {
            "text/plain": [
              "(array([1.170e+02, 3.040e+02, 5.790e+02, 1.141e+03, 1.727e+03, 2.347e+03,\n",
              "        2.853e+03, 3.302e+03, 3.486e+03, 3.197e+03, 2.644e+03, 1.863e+03,\n",
              "        1.282e+03, 0.000e+00, 7.940e+02, 4.380e+02, 2.850e+02, 1.670e+02,\n",
              "        8.100e+01, 3.900e+01, 2.600e+01, 1.400e+01, 8.000e+00, 4.000e+00,\n",
              "        2.000e+00, 0.000e+00, 0.000e+00, 2.000e+00, 1.000e+00, 2.000e+00,\n",
              "        1.000e+00, 1.000e+00, 0.000e+00, 0.000e+00, 0.000e+00, 0.000e+00,\n",
              "        0.000e+00, 0.000e+00, 1.000e+00, 1.000e+00]),\n",
              " array([ 2.   ,  2.925,  3.85 ,  4.775,  5.7  ,  6.625,  7.55 ,  8.475,\n",
              "         9.4  , 10.325, 11.25 , 12.175, 13.1  , 14.025, 14.95 , 15.875,\n",
              "        16.8  , 17.725, 18.65 , 19.575, 20.5  , 21.425, 22.35 , 23.275,\n",
              "        24.2  , 25.125, 26.05 , 26.975, 27.9  , 28.825, 29.75 , 30.675,\n",
              "        31.6  , 32.525, 33.45 , 34.375, 35.3  , 36.225, 37.15 , 38.075,\n",
              "        39.   ]),\n",
              " <a list of 40 Patch objects>)"
            ]
          },
          "metadata": {
            "tags": []
          },
          "execution_count": 23
        },
        {
          "output_type": "display_data",
          "data": {
            "image/png": "[encoded data removed]",
            "text/plain": [
              "<Figure size 432x288 with 1 Axes>"
            ]
          },
          "metadata": {
            "tags": [],
            "needs_background": "light"
          }
        }
      ]
    },
    {
      "cell_type": "code",
      "metadata": {
        "id": "q8iHa5B1lus-",
        "colab_type": "code",
        "colab": {
          "base_uri": "https://localhost:8080/",
          "height": 1000
        },
        "outputId": "c5bf0daf-ff7d-44bb-fe45-f71ec6687a72"
      },
      "source": [
        "plt.hist(temp, bins=150)"
      ],
      "execution_count": 24,
      "outputs": [
        {
          "output_type": "execute_result",
          "data": {
            "text/plain": [
              "(array([1.180e+02, 3.060e+02, 5.910e+02, 1.164e+03, 1.762e+03, 2.404e+03,\n",
              "        2.935e+03, 3.425e+03, 3.638e+03, 3.396e+03, 2.841e+03, 2.083e+03,\n",
              "        1.492e+03, 9.690e+02, 5.780e+02, 3.830e+02, 2.280e+02, 1.430e+02,\n",
              "        6.300e+01, 4.500e+01, 2.300e+01, 1.200e+01, 5.000e+00, 2.000e+00,\n",
              "        1.000e+00, 3.000e+00, 2.000e+00, 2.000e+00, 1.000e+00, 1.000e+00,\n",
              "        0.000e+00, 0.000e+00, 0.000e+00, 0.000e+00, 0.000e+00, 0.000e+00,\n",
              "        1.000e+00, 1.000e+00, 0.000e+00, 0.000e+00, 0.000e+00, 0.000e+00,\n",
              "        0.000e+00, 0.000e+00, 0.000e+00, 0.000e+00, 0.000e+00, 0.000e+00,\n",
              "        0.000e+00, 0.000e+00, 0.000e+00, 0.000e+00, 0.000e+00, 0.000e+00,\n",
              "        0.000e+00, 0.000e+00, 0.000e+00, 0.000e+00, 0.000e+00, 0.000e+00,\n",
              "        0.000e+00, 0.000e+00, 0.000e+00, 0.000e+00, 0.000e+00, 0.000e+00,\n",
              "        0.000e+00, 0.000e+00, 0.000e+00, 0.000e+00, 0.000e+00, 0.000e+00,\n",
              "        0.000e+00, 0.000e+00, 0.000e+00, 0.000e+00, 0.000e+00, 0.000e+00,\n",
              "        0.000e+00, 0.000e+00, 0.000e+00, 0.000e+00, 0.000e+00, 0.000e+00,\n",
              "        0.000e+00, 0.000e+00, 0.000e+00, 0.000e+00, 0.000e+00, 0.000e+00,\n",
              "        0.000e+00, 0.000e+00, 0.000e+00, 0.000e+00, 0.000e+00, 0.000e+00,\n",
              "        0.000e+00, 0.000e+00, 0.000e+00, 0.000e+00, 0.000e+00, 0.000e+00,\n",
              "        0.000e+00, 0.000e+00, 0.000e+00, 0.000e+00, 0.000e+00, 0.000e+00,\n",
              "        0.000e+00, 0.000e+00, 0.000e+00, 0.000e+00, 0.000e+00, 0.000e+00,\n",
              "        0.000e+00, 0.000e+00, 0.000e+00, 0.000e+00, 0.000e+00, 0.000e+00,\n",
              "        0.000e+00, 0.000e+00, 0.000e+00, 0.000e+00, 0.000e+00, 0.000e+00,\n",
              "        0.000e+00, 0.000e+00, 0.000e+00, 0.000e+00, 0.000e+00, 0.000e+00,\n",
              "        0.000e+00, 0.000e+00, 0.000e+00, 0.000e+00, 0.000e+00, 0.000e+00,\n",
              "        0.000e+00, 0.000e+00, 0.000e+00, 0.000e+00, 0.000e+00, 0.000e+00,\n",
              "        0.000e+00, 0.000e+00, 0.000e+00, 0.000e+00, 0.000e+00, 1.000e+00]),\n",
              " array([  2.        ,   2.99333333,   3.98666667,   4.98      ,\n",
              "          5.97333333,   6.96666667,   7.96      ,   8.95333333,\n",
              "          9.94666667,  10.94      ,  11.93333333,  12.92666667,\n",
              "         13.92      ,  14.91333333,  15.90666667,  16.9       ,\n",
              "         17.89333333,  18.88666667,  19.88      ,  20.87333333,\n",
              "         21.86666667,  22.86      ,  23.85333333,  24.84666667,\n",
              "         25.84      ,  26.83333333,  27.82666667,  28.82      ,\n",
              "         29.81333333,  30.80666667,  31.8       ,  32.79333333,\n",
              "         33.78666667,  34.78      ,  35.77333333,  36.76666667,\n",
              "         37.76      ,  38.75333333,  39.74666667,  40.74      ,\n",
              "         41.73333333,  42.72666667,  43.72      ,  44.71333333,\n",
              "         45.70666667,  46.7       ,  47.69333333,  48.68666667,\n",
              "         49.68      ,  50.67333333,  51.66666667,  52.66      ,\n",
              "         53.65333333,  54.64666667,  55.64      ,  56.63333333,\n",
              "         57.62666667,  58.62      ,  59.61333333,  60.60666667,\n",
              "         61.6       ,  62.59333333,  63.58666667,  64.58      ,\n",
              "         65.57333333,  66.56666667,  67.56      ,  68.55333333,\n",
              "         69.54666667,  70.54      ,  71.53333333,  72.52666667,\n",
              "         73.52      ,  74.51333333,  75.50666667,  76.5       ,\n",
              "         77.49333333,  78.48666667,  79.48      ,  80.47333333,\n",
              "         81.46666667,  82.46      ,  83.45333333,  84.44666667,\n",
              "         85.44      ,  86.43333333,  87.42666667,  88.42      ,\n",
              "         89.41333333,  90.40666667,  91.4       ,  92.39333333,\n",
              "         93.38666667,  94.38      ,  95.37333333,  96.36666667,\n",
              "         97.36      ,  98.35333333,  99.34666667, 100.34      ,\n",
              "        101.33333333, 102.32666667, 103.32      , 104.31333333,\n",
              "        105.30666667, 106.3       , 107.29333333, 108.28666667,\n",
              "        109.28      , 110.27333333, 111.26666667, 112.26      ,\n",
              "        113.25333333, 114.24666667, 115.24      , 116.23333333,\n",
              "        117.22666667, 118.22      , 119.21333333, 120.20666667,\n",
              "        121.2       , 122.19333333, 123.18666667, 124.18      ,\n",
              "        125.17333333, 126.16666667, 127.16      , 128.15333333,\n",
              "        129.14666667, 130.14      , 131.13333333, 132.12666667,\n",
              "        133.12      , 134.11333333, 135.10666667, 136.1       ,\n",
              "        137.09333333, 138.08666667, 139.08      , 140.07333333,\n",
              "        141.06666667, 142.06      , 143.05333333, 144.04666667,\n",
              "        145.04      , 146.03333333, 147.02666667, 148.02      ,\n",
              "        149.01333333, 150.00666667, 151.        ]),\n",
              " <a list of 150 Patch objects>)"
            ]
          },
          "metadata": {
            "tags": []
          },
          "execution_count": 24
        },
        {
          "output_type": "display_data",
          "data": {
            "image/png": "[encoded data removed]",
            "text/plain": [
              "<Figure size 432x288 with 1 Axes>"
            ]
          },
          "metadata": {
            "tags": [],
            "needs_background": "light"
          }
        }
      ]
    },
    {
      "cell_type": "code",
      "metadata": {
        "id": "fr5aAxbfEmr2",
        "colab_type": "code",
        "colab": {
          "base_uri": "https://localhost:8080/",
          "height": 68
        },
        "outputId": "8fbc0076-cc55-452b-d35d-afc787875dea"
      },
      "source": [
        "print (df['is_sarcastic'].value_counts())"
      ],
      "execution_count": 25,
      "outputs": [
        {
          "output_type": "stream",
          "text": [
            "0    29970\n",
            "1    25358\n",
            "Name: is_sarcastic, dtype: int64\n"
          ],
          "name": "stdout"
        }
      ]
    },
    {
      "cell_type": "code",
      "metadata": {
        "id": "EC2IXAH_24QS",
        "colab_type": "code",
        "colab": {}
      },
      "source": [
        "# df = df.drop(['article_link'],axis=1)\n",
        "# df['len'] = df['headline'].apply(lambda x : len(x.split()))"
      ],
      "execution_count": 0,
      "outputs": []
    },
    {
      "cell_type": "code",
      "metadata": {
        "id": "pUuQcUdpEUJv",
        "colab_type": "code",
        "colab": {}
      },
      "source": [
        "X = np.array(df['headline'])\n",
        "y = np.array(df['is_sarcastic'])\n",
        "\n",
        "y = y.reshape((y.shape[0],1))\n",
        "X = X.squeeze()\n",
        "m = X.shape[0]\n",
        "perm = np.random.permutation(m)\n",
        "X = X[perm]\n",
        "y = y[perm,:]\n",
        "\n",
        "X_test = X[:10000]\n",
        "y_test = y[:10000,:]\n",
        "\n",
        "X_val = X[10000:20000]\n",
        "y_val = y[10000:20000,:]\n",
        "\n",
        "X_train = X[20000:]\n",
        "y_train = y[20000:,:]"
      ],
      "execution_count": 0,
      "outputs": []
    },
    {
      "cell_type": "code",
      "metadata": {
        "id": "p2Hrj7Go4BnP",
        "colab_type": "code",
        "colab": {
          "base_uri": "https://localhost:8080/",
          "height": 34
        },
        "outputId": "bfdff791-f62f-4d11-f8d2-7f07ed7b164b"
      },
      "source": [
        "max_len = min(max(len(x.split()) for x in X_train), 20) #25 when used lstm, 98% accuracy\n",
        "embedding_size = 300\n",
        "embedding_file = 'crawl-300d-2M.vec'\n",
        "print(\"max length:\",max_len)"
      ],
      "execution_count": 28,
      "outputs": [
        {
          "output_type": "stream",
          "text": [
            "max length: 20\n"
          ],
          "name": "stdout"
        }
      ]
    },
    {
      "cell_type": "code",
      "metadata": {
        "id": "TtY0xEmj5dsM",
        "colab_type": "code",
        "colab": {
          "base_uri": "https://localhost:8080/",
          "height": 68
        },
        "outputId": "cf5cfde5-b630-494c-b168-36cf488b519b"
      },
      "source": [
        "tokenizer = Tokenizer()\n",
        "tokenizer.fit_on_texts(list(X_train))\n",
        "\n",
        "X = tokenizer.texts_to_sequences(list(X_train))\n",
        "X_train = np.array(pad_sequences(X, max_len))\n",
        "\n",
        "X = tokenizer.texts_to_sequences(list(X_val))\n",
        "X_val = np.array(pad_sequences(X, max_len))\n",
        "\n",
        "X = tokenizer.texts_to_sequences(list(X_test))\n",
        "X_test = np.array(pad_sequences(X, max_len))\n",
        "\n",
        "print(y_train.shape, X_train.shape)\n",
        "print(y_val.shape, X_val.shape)\n",
        "print(y_test.shape, X_test.shape)"
      ],
      "execution_count": 29,
      "outputs": [
        {
          "output_type": "stream",
          "text": [
            "(35328, 1) (35328, 20)\n",
            "(10000, 1) (10000, 20)\n",
            "(10000, 1) (10000, 20)\n"
          ],
          "name": "stdout"
        }
      ]
    },
    {
      "cell_type": "code",
      "metadata": {
        "id": "pnYm9SaEqKr6",
        "colab_type": "code",
        "outputId": "c91073de-8f2a-4609-ee90-c02998ced4ee",
        "colab": {
          "base_uri": "https://localhost:8080/",
          "height": 34
        }
      },
      "source": [
        "word_index = tokenizer.word_index\n",
        "vocab_size = len(word_index) + 1\n",
        "print(vocab_size)"
      ],
      "execution_count": 30,
      "outputs": [
        {
          "output_type": "stream",
          "text": [
            "28514\n"
          ],
          "name": "stdout"
        }
      ]
    },
    {
      "cell_type": "code",
      "metadata": {
        "id": "DjOsXv4-aQ8-",
        "colab_type": "code",
        "colab": {}
      },
      "source": [
        "def get_indices(word, *arr):\n",
        "    return word,np.asarray(arr, dtype=np.float32)\n",
        "\n",
        "word_to_vec = dict(get_indices(*i.rstrip().rsplit()) for i in open(embedding_file))\n",
        "\n",
        "embedding_matrix_B = np.zeros((vocab_size, embedding_size))\n",
        "\n",
        "for word,i in word_index.items():\n",
        "    if i >= vocab_size:\n",
        "        continue\n",
        "    embedding_vector = word_to_vec.get(word)\n",
        "    if embedding_vector is not None:\n",
        "        embedding_matrix_B[i] = embedding_vector"
      ],
      "execution_count": 0,
      "outputs": []
    },
    {
      "cell_type": "markdown",
      "metadata": {
        "id": "bnMe5orw72yB",
        "colab_type": "text"
      },
      "source": [
        "####**CNN Model**"
      ]
    },
    {
      "cell_type": "code",
      "metadata": {
        "id": "4w1leWNu76HJ",
        "colab_type": "code",
        "colab": {}
      },
      "source": [
        "def baseline():\n",
        "    model = tf.keras.Sequential()\n",
        "\n",
        "    model.add(tf.keras.layers.Embedding(vocab_size, \n",
        "                                        embedding_size, \n",
        "                                        input_length=max_len, \n",
        "                                        weights=[embedding_matrix_B], \n",
        "                                        trainable=True,\n",
        "                                        name='Embedding_B'))\n",
        "    \n",
        "    model.add(tf.keras.layers.Conv1D(filters=50,\n",
        "                                     kernel_size=5,\n",
        "                                     activation='relu',\n",
        "                                     name='conv1_B'))\n",
        "    model.add(tf.keras.layers.MaxPooling1D(2, name='max_pool1_B'))\n",
        "\n",
        "    model.add(tf.keras.layers.Conv1D(filters=100,\n",
        "                                     kernel_size=3,\n",
        "                                     activation='relu',\n",
        "                                     name='conv2_B'))\n",
        "    model.add(tf.keras.layers.MaxPooling1D(2, name='max_pool2_B'))\n",
        "    model.add(tf.keras.layers.Flatten())\n",
        "\n",
        "    model.add(tf.keras.layers.Dense(100, activation='relu', name='dense1_B'))\n",
        "    model.add(tf.keras.layers.Dropout(0.5, name='dropout1_B'))\n",
        "    model.add(tf.keras.layers.Dense(1, activation='sigmoid', name='output_B'))\n",
        "\n",
        "    return model"
      ],
      "execution_count": 0,
      "outputs": []
    },
    {
      "cell_type": "code",
      "metadata": {
        "id": "eYqfswBS-2aR",
        "colab_type": "code",
        "colab": {
          "base_uri": "https://localhost:8080/",
          "height": 734
        },
        "outputId": "93f41fe4-ae4f-419d-892f-f1ef2376c234"
      },
      "source": [
        "batch_size = 32\n",
        "epochs = 10\n",
        "learning_rate = 5e-5\n",
        "\n",
        "model = baseline()\n",
        "checkpointer = ModelCheckpoint(filepath = 'baseline.hdf5', \n",
        "                               monitor='val_loss', \n",
        "                               verbose=1,\n",
        "                               save_best_only=True,\n",
        "                               mode='min')\n",
        "\n",
        "model.compile(loss='binary_crossentropy',\n",
        "              optimizer=tf.keras.optimizers.Adam(learning_rate=learning_rate),\n",
        "              metrics=['accuracy', f1_m])\n",
        "\n",
        "history = model.fit(X_train,\n",
        "                    y_train,\n",
        "                    batch_size=batch_size,\n",
        "                    epochs=epochs,\n",
        "                    callbacks=[checkpointer],\n",
        "                    validation_data=(X_val,y_val))"
      ],
      "execution_count": 33,
      "outputs": [
        {
          "output_type": "stream",
          "text": [
            "Train on 35328 samples, validate on 10000 samples\n",
            "Epoch 1/10\n",
            "35136/35328 [============================>.] - ETA: 0s - loss: 0.5903 - acc: 0.6809 - f1_m: 0.5653\n",
            "Epoch 00001: val_loss improved from inf to 0.42764, saving model to baseline.hdf5\n",
            "35328/35328 [==============================] - 8s 220us/sample - loss: 0.5895 - acc: 0.6815 - f1_m: 0.5664 - val_loss: 0.4276 - val_acc: 0.8187 - val_f1_m: 0.7866\n",
            "Epoch 2/10\n",
            "35264/35328 [============================>.] - ETA: 0s - loss: 0.3424 - acc: 0.8572 - f1_m: 0.8392\n",
            "Epoch 00002: val_loss improved from 0.42764 to 0.32051, saving model to baseline.hdf5\n",
            "35328/35328 [==============================] - 7s 209us/sample - loss: 0.3425 - acc: 0.8571 - f1_m: 0.8391 - val_loss: 0.3205 - val_acc: 0.8684 - val_f1_m: 0.8478\n",
            "Epoch 3/10\n",
            "35168/35328 [============================>.] - ETA: 0s - loss: 0.2448 - acc: 0.9055 - f1_m: 0.8928\n",
            "Epoch 00003: val_loss improved from 0.32051 to 0.27347, saving model to baseline.hdf5\n",
            "35328/35328 [==============================] - 7s 209us/sample - loss: 0.2444 - acc: 0.9057 - f1_m: 0.8931 - val_loss: 0.2735 - val_acc: 0.8909 - val_f1_m: 0.8752\n",
            "Epoch 4/10\n",
            "35264/35328 [============================>.] - ETA: 0s - loss: 0.1775 - acc: 0.9357 - f1_m: 0.9266\n",
            "Epoch 00004: val_loss improved from 0.27347 to 0.25643, saving model to baseline.hdf5\n",
            "35328/35328 [==============================] - 7s 211us/sample - loss: 0.1774 - acc: 0.9358 - f1_m: 0.9266 - val_loss: 0.2564 - val_acc: 0.9032 - val_f1_m: 0.8855\n",
            "Epoch 5/10\n",
            "35232/35328 [============================>.] - ETA: 0s - loss: 0.1253 - acc: 0.9594 - f1_m: 0.9535\n",
            "Epoch 00005: val_loss improved from 0.25643 to 0.22116, saving model to baseline.hdf5\n",
            "35328/35328 [==============================] - 7s 210us/sample - loss: 0.1251 - acc: 0.9594 - f1_m: 0.9535 - val_loss: 0.2212 - val_acc: 0.9232 - val_f1_m: 0.9111\n",
            "Epoch 6/10\n",
            "35264/35328 [============================>.] - ETA: 0s - loss: 0.0852 - acc: 0.9754 - f1_m: 0.9721\n",
            "Epoch 00006: val_loss improved from 0.22116 to 0.20609, saving model to baseline.hdf5\n",
            "35328/35328 [==============================] - 7s 208us/sample - loss: 0.0853 - acc: 0.9753 - f1_m: 0.9721 - val_loss: 0.2061 - val_acc: 0.9312 - val_f1_m: 0.9222\n",
            "Epoch 7/10\n",
            "35168/35328 [============================>.] - ETA: 0s - loss: 0.0558 - acc: 0.9857 - f1_m: 0.9835\n",
            "Epoch 00007: val_loss did not improve from 0.20609\n",
            "35328/35328 [==============================] - 7s 204us/sample - loss: 0.0560 - acc: 0.9856 - f1_m: 0.9835 - val_loss: 0.2098 - val_acc: 0.9382 - val_f1_m: 0.9287\n",
            "Epoch 8/10\n",
            "35200/35328 [============================>.] - ETA: 0s - loss: 0.0359 - acc: 0.9923 - f1_m: 0.9912\n",
            "Epoch 00008: val_loss improved from 0.20609 to 0.20566, saving model to baseline.hdf5\n",
            "35328/35328 [==============================] - 7s 206us/sample - loss: 0.0359 - acc: 0.9922 - f1_m: 0.9912 - val_loss: 0.2057 - val_acc: 0.9413 - val_f1_m: 0.9327\n",
            "Epoch 9/10\n",
            "35104/35328 [============================>.] - ETA: 0s - loss: 0.0210 - acc: 0.9959 - f1_m: 0.9953\n",
            "Epoch 00009: val_loss did not improve from 0.20566\n",
            "35328/35328 [==============================] - 8s 214us/sample - loss: 0.0211 - acc: 0.9959 - f1_m: 0.9953 - val_loss: 0.2297 - val_acc: 0.9435 - val_f1_m: 0.9340\n",
            "Epoch 10/10\n",
            "35264/35328 [============================>.] - ETA: 0s - loss: 0.0124 - acc: 0.9979 - f1_m: 0.9976\n",
            "Epoch 00010: val_loss did not improve from 0.20566\n",
            "35328/35328 [==============================] - 7s 205us/sample - loss: 0.0124 - acc: 0.9979 - f1_m: 0.9976 - val_loss: 0.2400 - val_acc: 0.9428 - val_f1_m: 0.9334\n"
          ],
          "name": "stdout"
        }
      ]
    },
    {
      "cell_type": "code",
      "metadata": {
        "id": "qAMopUK7Akuh",
        "colab_type": "code",
        "colab": {
          "base_uri": "https://localhost:8080/",
          "height": 545
        },
        "outputId": "3b980af1-15ef-47a8-bf4d-ff29d3c7aefd"
      },
      "source": [
        "loss = history.history['loss']\n",
        "val_loss = history.history['val_loss']\n",
        "acc = history.history['acc']\n",
        "val_acc = history.history['val_acc']\n",
        "epoch = history.epoch\n",
        "\n",
        "plt.plot(epoch,loss, label='loss')\n",
        "plt.plot(epoch, val_loss, label='val loss')\n",
        "plt.legend()\n",
        "plt.title('epochs vs loss')\n",
        "plt.show()\n",
        "\n",
        "plt.plot(epoch,acc, label='accuracy')\n",
        "plt.plot(epoch, val_acc, label='val accuracy')\n",
        "plt.legend()\n",
        "plt.title('epochs vs accuracy')\n",
        "plt.show()"
      ],
      "execution_count": 34,
      "outputs": [
        {
          "output_type": "display_data",
          "data": {
            "image/png": "[encoded data removed]",
            "text/plain": [
              "<Figure size 432x288 with 1 Axes>"
            ]
          },
          "metadata": {
            "tags": [],
            "needs_background": "light"
          }
        },
        {
          "output_type": "display_data",
          "data": {
            "image/png": "[encoded data removed]",
            "text/plain": [
              "<Figure size 432x288 with 1 Axes>"
            ]
          },
          "metadata": {
            "tags": [],
            "needs_background": "light"
          }
        }
      ]
    },
    {
      "cell_type": "markdown",
      "metadata": {
        "colab_type": "text",
        "id": "Ngn1oWBuCPbz"
      },
      "source": [
        "**Test Set Performance**"
      ]
    },
    {
      "cell_type": "code",
      "metadata": {
        "colab_type": "code",
        "id": "0xBSV69FCPb2",
        "colab": {
          "base_uri": "https://localhost:8080/",
          "height": 54
        },
        "outputId": "9a95d5f7-4a7e-48a8-92a1-6af121ed1f36"
      },
      "source": [
        "model.load_weights('baseline.hdf5')\n",
        "results = model.evaluate(X_test,\n",
        "                         y_test,\n",
        "                         batch_size=batch_size\n",
        "                         )"
      ],
      "execution_count": 35,
      "outputs": [
        {
          "output_type": "stream",
          "text": [
            "10000/10000 [==============================] - 1s 69us/sample - loss: 0.1974 - acc: 0.9422 - f1_m: 0.9358\n"
          ],
          "name": "stdout"
        }
      ]
    },
    {
      "cell_type": "code",
      "metadata": {
        "colab_type": "code",
        "id": "q5emi-h8CPb7",
        "colab": {
          "base_uri": "https://localhost:8080/",
          "height": 68
        },
        "outputId": "490c4daa-d59d-46d9-a002-84df6fd55dd8"
      },
      "source": [
        "print(\"Loss on test set:\", results[0])\n",
        "print(\"Accuracy on test set:\", results[1])\n",
        "print (\"F1 score on test set:\", results[2])"
      ],
      "execution_count": 36,
      "outputs": [
        {
          "output_type": "stream",
          "text": [
            "Loss on test set: 0.1973807864330709\n",
            "Accuracy on test set: 0.9422\n",
            "F1 score on test set: 0.9357907\n"
          ],
          "name": "stdout"
        }
      ]
    },
    {
      "cell_type": "code",
      "metadata": {
        "id": "w6abAgGjnvmq",
        "colab_type": "code",
        "colab": {}
      },
      "source": [
        "B = baseline()\n",
        "B.load_weights('baseline.hdf5')"
      ],
      "execution_count": 0,
      "outputs": []
    },
    {
      "cell_type": "markdown",
      "metadata": {
        "id": "wGNsonaLy4eY",
        "colab_type": "text"
      },
      "source": [
        "####**CNN-SVM Model**"
      ]
    },
    {
      "cell_type": "code",
      "metadata": {
        "id": "u9ZZ90e0BReg",
        "colab_type": "code",
        "colab": {
          "base_uri": "https://localhost:8080/",
          "height": 85
        },
        "outputId": "8760352c-4635-4b66-a9b7-5f40f1de7c0a"
      },
      "source": [
        "from sklearn import svm\n",
        "\n",
        "m_temp = tf.keras.Model(inputs=model.input, outputs=model.get_layer('dropout1_B').output)\n",
        "t = m_temp.predict(X_train)\n",
        "arr = K.eval(t)\n",
        "\n",
        "clf = svm.SVC(kernel='rbf', C=20, gamma=.1)\n",
        "clf.fit(arr, y_train.ravel())"
      ],
      "execution_count": 38,
      "outputs": [
        {
          "output_type": "execute_result",
          "data": {
            "text/plain": [
              "SVC(C=20, break_ties=False, cache_size=200, class_weight=None, coef0=0.0,\n",
              "    decision_function_shape='ovr', degree=3, gamma=0.1, kernel='rbf',\n",
              "    max_iter=-1, probability=False, random_state=None, shrinking=True,\n",
              "    tol=0.001, verbose=False)"
            ]
          },
          "metadata": {
            "tags": []
          },
          "execution_count": 38
        }
      ]
    },
    {
      "cell_type": "code",
      "metadata": {
        "id": "45QIT9CkCy0S",
        "colab_type": "code",
        "colab": {
          "base_uri": "https://localhost:8080/",
          "height": 68
        },
        "outputId": "0f2c7b39-d967-4fc6-9b63-f08795a39d72"
      },
      "source": [
        "import sklearn\n",
        "\n",
        "m_temp = tf.keras.Model(inputs=model.input, outputs=model.get_layer('dense1_B').output)\n",
        "tt = m_temp.predict(X_test)\n",
        "tt = K.eval(tt)\n",
        "ans = clf.predict(tt)\n",
        "\n",
        "tt = m_temp.predict(X_train)\n",
        "tt = K.eval(tt)\n",
        "trn = clf.predict(tt)\n",
        "\n",
        "tt = m_temp.predict(X_val)\n",
        "tt = K.eval(tt)\n",
        "val = clf.predict(tt)\n",
        "print(\"Train Acc:\", sklearn.metrics.accuracy_score(y_train.ravel(), trn))\n",
        "print(\"Val Acc:\", sklearn.metrics.accuracy_score(y_val.ravel(), val))\n",
        "print(\"Test Acc:\", sklearn.metrics.accuracy_score(y_test.ravel(), ans))"
      ],
      "execution_count": 39,
      "outputs": [
        {
          "output_type": "stream",
          "text": [
            "Train Acc: 0.9980751811594203\n",
            "Val Acc: 0.9426\n",
            "Test Acc: 0.9433\n"
          ],
          "name": "stdout"
        }
      ]
    },
    {
      "cell_type": "markdown",
      "metadata": {
        "id": "XCQpneHCnkeP",
        "colab_type": "text"
      },
      "source": [
        "###**Model Combination**"
      ]
    },
    {
      "cell_type": "markdown",
      "metadata": {
        "id": "omwK2jdvZrxY",
        "colab_type": "text"
      },
      "source": [
        "####**Baseline with Sentiment**"
      ]
    },
    {
      "cell_type": "code",
      "metadata": {
        "id": "WOS_rMIdUSQp",
        "colab_type": "code",
        "colab": {}
      },
      "source": [
        "sentiment_model = tf.keras.Model(inputs=S.input, outputs=S.get_layer('dropout1_S').output)\n",
        "baseline_model = tf.keras.Model(inputs=B.input, outputs=B.get_layer('dropout1_B').output)\n",
        "\n",
        "sentiment_model.trainable = True\n",
        "baseline_model.trainable = True"
      ],
      "execution_count": 0,
      "outputs": []
    },
    {
      "cell_type": "code",
      "metadata": {
        "id": "S_7iKiUioLWn",
        "colab_type": "code",
        "colab": {}
      },
      "source": [
        "def combined():\n",
        "    ip = tf.keras.Input(shape=(max_len,))\n",
        "\n",
        "    x1 = sentiment_model(ip)\n",
        "    x2 = baseline_model(ip)\n",
        "    z = tf.keras.layers.concatenate([x2,x1], axis=1)\n",
        "    z = tf.keras.layers.Flatten(name='flatten1_C')(z)\n",
        "    z = tf.keras.layers.Dropout(0.65, name='dropout1_C')(z)\n",
        "    out = tf.keras.layers.Dense(1, activation='sigmoid')(z)\n",
        "\n",
        "    model = tf.keras.Model(inputs=ip, outputs=out)\n",
        "    \n",
        "    return model"
      ],
      "execution_count": 0,
      "outputs": []
    },
    {
      "cell_type": "code",
      "metadata": {
        "id": "pq__zs6Z8u09",
        "colab_type": "code",
        "outputId": "174b201b-5a89-4e14-e090-1bcb845824ab",
        "colab": {
          "base_uri": "https://localhost:8080/",
          "height": 768
        }
      },
      "source": [
        "batch_size = 32\n",
        "epochs = 10\n",
        "learning_rate = 1e-5\n",
        "\n",
        "model = combined()\n",
        "checkpointer = ModelCheckpoint(filepath = 'combined.hdf5', \n",
        "                               monitor='val_loss', \n",
        "                               verbose=1,\n",
        "                               save_best_only=True,\n",
        "                               mode='min')\n",
        "\n",
        "model.compile(loss='binary_crossentropy',\n",
        "              optimizer=tf.keras.optimizers.Adam(learning_rate=learning_rate),\n",
        "              metrics=['accuracy', f1_m])\n",
        "\n",
        "history = model.fit(X_train,\n",
        "                    y_train,\n",
        "                    batch_size=batch_size,\n",
        "                    epochs=epochs,\n",
        "                    callbacks=[checkpointer],\n",
        "                    validation_data=(X_val,y_val))"
      ],
      "execution_count": 42,
      "outputs": [
        {
          "output_type": "stream",
          "text": [
            "WARNING:tensorflow:Large dropout rate: 0.75 (>0.5). In TensorFlow 2.x, dropout() uses dropout rate instead of keep_prob. Please ensure that this is intended.\n",
            "WARNING:tensorflow:Large dropout rate: 0.65 (>0.5). In TensorFlow 2.x, dropout() uses dropout rate instead of keep_prob. Please ensure that this is intended.\n",
            "Train on 35328 samples, validate on 10000 samples\n",
            "Epoch 1/10\n",
            "35264/35328 [============================>.] - ETA: 0s - loss: 0.6454 - acc: 0.6632 - f1_m: 0.6144\n",
            "Epoch 00001: val_loss improved from inf to 0.32989, saving model to combined.hdf5\n",
            "35328/35328 [==============================] - 14s 386us/sample - loss: 0.6449 - acc: 0.6636 - f1_m: 0.6148 - val_loss: 0.3299 - val_acc: 0.9382 - val_f1_m: 0.9290\n",
            "Epoch 2/10\n",
            "35264/35328 [============================>.] - ETA: 0s - loss: 0.2991 - acc: 0.8901 - f1_m: 0.8739\n",
            "Epoch 00002: val_loss improved from 0.32989 to 0.23474, saving model to combined.hdf5\n",
            "35328/35328 [==============================] - 13s 368us/sample - loss: 0.2989 - acc: 0.8902 - f1_m: 0.8741 - val_loss: 0.2347 - val_acc: 0.9395 - val_f1_m: 0.9300\n",
            "Epoch 3/10\n",
            "35232/35328 [============================>.] - ETA: 0s - loss: 0.2028 - acc: 0.9420 - f1_m: 0.9339\n",
            "Epoch 00003: val_loss improved from 0.23474 to 0.20156, saving model to combined.hdf5\n",
            "35328/35328 [==============================] - 13s 367us/sample - loss: 0.2028 - acc: 0.9419 - f1_m: 0.9339 - val_loss: 0.2016 - val_acc: 0.9400 - val_f1_m: 0.9317\n",
            "Epoch 4/10\n",
            "35232/35328 [============================>.] - ETA: 0s - loss: 0.1561 - acc: 0.9591 - f1_m: 0.9537\n",
            "Epoch 00004: val_loss improved from 0.20156 to 0.18835, saving model to combined.hdf5\n",
            "35328/35328 [==============================] - 13s 366us/sample - loss: 0.1561 - acc: 0.9591 - f1_m: 0.9537 - val_loss: 0.1884 - val_acc: 0.9394 - val_f1_m: 0.9296\n",
            "Epoch 5/10\n",
            "35232/35328 [============================>.] - ETA: 0s - loss: 0.1277 - acc: 0.9683 - f1_m: 0.9645\n",
            "Epoch 00005: val_loss improved from 0.18835 to 0.18077, saving model to combined.hdf5\n",
            "35328/35328 [==============================] - 13s 369us/sample - loss: 0.1276 - acc: 0.9683 - f1_m: 0.9645 - val_loss: 0.1808 - val_acc: 0.9394 - val_f1_m: 0.9298\n",
            "Epoch 6/10\n",
            "35200/35328 [============================>.] - ETA: 0s - loss: 0.1082 - acc: 0.9727 - f1_m: 0.9691\n",
            "Epoch 00006: val_loss did not improve from 0.18077\n",
            "35328/35328 [==============================] - 12s 346us/sample - loss: 0.1083 - acc: 0.9727 - f1_m: 0.9691 - val_loss: 0.1811 - val_acc: 0.9389 - val_f1_m: 0.9296\n",
            "Epoch 7/10\n",
            "35232/35328 [============================>.] - ETA: 0s - loss: 0.0938 - acc: 0.9773 - f1_m: 0.9744\n",
            "Epoch 00007: val_loss did not improve from 0.18077\n",
            "35328/35328 [==============================] - 12s 344us/sample - loss: 0.0938 - acc: 0.9774 - f1_m: 0.9744 - val_loss: 0.1824 - val_acc: 0.9393 - val_f1_m: 0.9288\n",
            "Epoch 8/10\n",
            "35296/35328 [============================>.] - ETA: 0s - loss: 0.0801 - acc: 0.9806 - f1_m: 0.9780\n",
            "Epoch 00008: val_loss did not improve from 0.18077\n",
            "35328/35328 [==============================] - 12s 348us/sample - loss: 0.0801 - acc: 0.9807 - f1_m: 0.9780 - val_loss: 0.1859 - val_acc: 0.9401 - val_f1_m: 0.9309\n",
            "Epoch 9/10\n",
            "35232/35328 [============================>.] - ETA: 0s - loss: 0.0725 - acc: 0.9827 - f1_m: 0.9805\n",
            "Epoch 00009: val_loss did not improve from 0.18077\n",
            "35328/35328 [==============================] - 12s 343us/sample - loss: 0.0725 - acc: 0.9827 - f1_m: 0.9805 - val_loss: 0.1868 - val_acc: 0.9407 - val_f1_m: 0.9319\n",
            "Epoch 10/10\n",
            "35296/35328 [============================>.] - ETA: 0s - loss: 0.0615 - acc: 0.9864 - f1_m: 0.9845\n",
            "Epoch 00010: val_loss did not improve from 0.18077\n",
            "35328/35328 [==============================] - 12s 346us/sample - loss: 0.0616 - acc: 0.9864 - f1_m: 0.9844 - val_loss: 0.1915 - val_acc: 0.9410 - val_f1_m: 0.9325\n"
          ],
          "name": "stdout"
        }
      ]
    },
    {
      "cell_type": "code",
      "metadata": {
        "colab_type": "code",
        "id": "NOhc2jIGQbKT",
        "colab": {
          "base_uri": "https://localhost:8080/",
          "height": 545
        },
        "outputId": "0d1f539b-c84f-4f13-d97f-7ea508b8960a"
      },
      "source": [
        "loss = history.history['loss']\n",
        "val_loss = history.history['val_loss']\n",
        "acc = history.history['acc']\n",
        "val_acc = history.history['val_acc']\n",
        "epoch = history.epoch\n",
        "\n",
        "plt.plot(epoch,loss, label='loss')\n",
        "plt.plot(epoch, val_loss, label='val loss')\n",
        "plt.legend()\n",
        "plt.title('epochs vs loss')\n",
        "plt.show()\n",
        "\n",
        "plt.plot(epoch,acc, label='accuracy')\n",
        "plt.plot(epoch, val_acc, label='val accuracy')\n",
        "plt.legend()\n",
        "plt.title('epochs vs accuracy')\n",
        "plt.show()  "
      ],
      "execution_count": 43,
      "outputs": [
        {
          "output_type": "display_data",
          "data": {
            "image/png": "[encoded data removed]",
            "text/plain": [
              "<Figure size 432x288 with 1 Axes>"
            ]
          },
          "metadata": {
            "tags": [],
            "needs_background": "light"
          }
        },
        {
          "output_type": "display_data",
          "data": {
            "image/png": "[encoded data removed]",
            "text/plain": [
              "<Figure size 432x288 with 1 Axes>"
            ]
          },
          "metadata": {
            "tags": [],
            "needs_background": "light"
          }
        }
      ]
    },
    {
      "cell_type": "markdown",
      "metadata": {
        "colab_type": "text",
        "id": "Qxz0Y0McQbKi"
      },
      "source": [
        "**Test Set Performance**"
      ]
    },
    {
      "cell_type": "code",
      "metadata": {
        "colab_type": "code",
        "id": "OM4EAQvvQbKi",
        "colab": {
          "base_uri": "https://localhost:8080/",
          "height": 54
        },
        "outputId": "da354b49-20c1-47c1-f2bc-5228a32d236f"
      },
      "source": [
        "model.load_weights('combined.hdf5')\n",
        "results = model.evaluate(X_test,\n",
        "                         y_test,\n",
        "                         batch_size=batch_size\n",
        "                         )"
      ],
      "execution_count": 44,
      "outputs": [
        {
          "output_type": "stream",
          "text": [
            "10000/10000 [==============================] - 1s 78us/sample - loss: 0.1727 - acc: 0.9438 - f1_m: 0.9372\n"
          ],
          "name": "stdout"
        }
      ]
    },
    {
      "cell_type": "code",
      "metadata": {
        "colab_type": "code",
        "id": "t_iUaSoxQbKm",
        "colab": {
          "base_uri": "https://localhost:8080/",
          "height": 68
        },
        "outputId": "f0b34547-cd24-4496-fc01-b92f4cb020a6"
      },
      "source": [
        "print(\"Loss on test set:\", results[0])\n",
        "print(\"Accuracy on test set:\", results[1])\n",
        "print (\"F1 score on test set:\", results[2])"
      ],
      "execution_count": 45,
      "outputs": [
        {
          "output_type": "stream",
          "text": [
            "Loss on test set: 0.1726510119020939\n",
            "Accuracy on test set: 0.9438\n",
            "F1 score on test set: 0.93724036\n"
          ],
          "name": "stdout"
        }
      ]
    },
    {
      "cell_type": "markdown",
      "metadata": {
        "id": "g7T8GeYHZkpO",
        "colab_type": "text"
      },
      "source": [
        "####**Combined SVM**"
      ]
    },
    {
      "cell_type": "code",
      "metadata": {
        "colab_type": "code",
        "outputId": "eadd81b8-b3e4-4b79-beaa-a1a6028ecf2f",
        "id": "2hZKEfspaKvK",
        "colab": {
          "base_uri": "https://localhost:8080/",
          "height": 85
        }
      },
      "source": [
        "from sklearn import svm\n",
        "\n",
        "m_temp = tf.keras.Model(inputs=model.input, outputs=model.get_layer('dropout1_C').output)\n",
        "t = m_temp.predict(X_train)\n",
        "arr = K.eval(t)\n",
        "\n",
        "clf = svm.SVC(kernel='rbf', C=25, gamma=.1)\n",
        "clf.fit(arr, y_train.ravel())"
      ],
      "execution_count": 48,
      "outputs": [
        {
          "output_type": "execute_result",
          "data": {
            "text/plain": [
              "SVC(C=25, break_ties=False, cache_size=200, class_weight=None, coef0=0.0,\n",
              "    decision_function_shape='ovr', degree=3, gamma=0.1, kernel='rbf',\n",
              "    max_iter=-1, probability=False, random_state=None, shrinking=True,\n",
              "    tol=0.001, verbose=False)"
            ]
          },
          "metadata": {
            "tags": []
          },
          "execution_count": 48
        }
      ]
    },
    {
      "cell_type": "code",
      "metadata": {
        "colab_type": "code",
        "outputId": "1e1bd442-e4da-437d-9712-a99bf0366b86",
        "id": "Y_btth5maKvQ",
        "colab": {
          "base_uri": "https://localhost:8080/",
          "height": 68
        }
      },
      "source": [
        "import sklearn\n",
        "\n",
        "m_temp = tf.keras.Model(inputs=model.input, outputs=model.get_layer('flatten1_C').output)\n",
        "tt = m_temp.predict(X_test)\n",
        "tt = K.eval(tt)\n",
        "ans = clf.predict(tt)\n",
        "\n",
        "tt = m_temp.predict(X_train)\n",
        "tt = K.eval(tt)\n",
        "trn = clf.predict(tt)\n",
        "\n",
        "tt = m_temp.predict(X_val)\n",
        "tt = K.eval(tt)\n",
        "val = clf.predict(tt)\n",
        "print(\"Train Acc:\", sklearn.metrics.accuracy_score(y_train.ravel(), trn))\n",
        "print(\"Val Acc:\", sklearn.metrics.accuracy_score(y_val.ravel(), val))\n",
        "print(\"Test Acc:\", sklearn.metrics.accuracy_score(y_test.ravel(), ans))"
      ],
      "execution_count": 49,
      "outputs": [
        {
          "output_type": "stream",
          "text": [
            "Train Acc: 0.998443161231884\n",
            "Val Acc: 0.944\n",
            "Test Acc: 0.9479\n"
          ],
          "name": "stdout"
        }
      ]
    },
    {
      "cell_type": "code",
      "metadata": {
        "id": "pDoYqpWUbDQH",
        "colab_type": "code",
        "colab": {}
      },
      "source": [
        ""
      ],
      "execution_count": 0,
      "outputs": []
    }
  ]
}